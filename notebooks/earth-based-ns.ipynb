{
 "cells": [
  {
   "cell_type": "code",
   "execution_count": 1,
   "id": "0aec3f4a-e47d-4a25-bb65-22386aa556a8",
   "metadata": {},
   "outputs": [],
   "source": [
    "%load_ext autoreload\n",
    "%autoreload 2"
   ]
  },
  {
   "cell_type": "code",
   "execution_count": 55,
   "id": "62dc132a-11b4-4a74-b3b3-47c7e3c838e3",
   "metadata": {},
   "outputs": [],
   "source": [
    "from multiprocessing import cpu_count, Pool\n",
    "import time\n",
    "from typing import Callable, Tuple\n",
    "\n",
    "import jax\n",
    "import jax.numpy as jnp\n",
    "from jax.scipy.optimize import minimize as jminimize\n",
    "import matplotlib.pyplot as plt\n",
    "import numpy as np\n",
    "from scipy.optimize import minimize_scalar, root_scalar\n",
    "from tqdm import tqdm, trange\n",
    "\n",
    "from pydd.analysis import *\n",
    "from pydd.binary import *\n",
    "from pydd.noise import *\n",
    "\n",
    "Array = jnp.ndarray\n",
    "RHO_S_PBH = 1.798e4 * MSUN / PC ** 3\n",
    "GAMMA_S_PBH = 9 / 4"
   ]
  },
  {
   "cell_type": "markdown",
   "id": "e35027ca-665f-4983-910d-e59f747318fd",
   "metadata": {
    "tags": []
   },
   "source": [
    "## Setup"
   ]
  },
  {
   "cell_type": "code",
   "execution_count": 9,
   "id": "c2aa53c8-cc9d-4e2d-91fa-cd01fbdf4420",
   "metadata": {},
   "outputs": [],
   "source": [
    "# Set up the signal system\n",
    "S_n, F_RANGE_NOISE = S_n_aLIGO, f_range_aLIGO\n",
    "FS = jnp.linspace(*F_RANGE_NOISE, 100_000)\n",
    "M_1 = jnp.array(1 * MSUN)\n",
    "M_2 = jnp.array(1e-3 * MSUN)\n",
    "M_CHIRP = get_M_chirp(M_1, M_2)\n",
    "Q = M_2 / M_1\n",
    "RHO_S = RHO_S_PBH\n",
    "GAMMA_S = GAMMA_S_PBH\n",
    "RHO_6 = get_rho_6(RHO_S, M_1, GAMMA_S)\n",
    "TT_C = jnp.array(0.0)\n",
    "F_C = get_f_isco(M_1)\n",
    "PHI_C = jnp.array(0.0)\n",
    "_DD_D = DynamicDress(\n",
    "    GAMMA_S,\n",
    "    RHO_6,\n",
    "    get_M_chirp(M_1, M_2),\n",
    "    M_2 / M_1,\n",
    "    PHI_C,\n",
    "    tT_c=TT_C,\n",
    "    dL=jnp.array(100e6 * PC),\n",
    "    f_c=get_f_isco(M_1),\n",
    ")\n",
    "\n",
    "# Get f_range\n",
    "T_OBS = 1 * YR\n",
    "F_RANGE_D = get_f_range(_DD_D, T_OBS)\n",
    "# Get dL\n",
    "SNR_THRESH = 12.0\n",
    "_fn = jax.jit(\n",
    "    lambda dL: calculate_SNR_cut(\n",
    "        DynamicDress(\n",
    "            _DD_D.gamma_s,\n",
    "            _DD_D.rho_6,\n",
    "            _DD_D.M_chirp,\n",
    "            _DD_D.q,\n",
    "            _DD_D.Phi_c,\n",
    "            _DD_D.tT_c,\n",
    "            dL,\n",
    "            _DD_D.f_c,\n",
    "        ),\n",
    "        F_RANGE_D,\n",
    "        FS,\n",
    "        S_n,\n",
    "    )\n",
    ")\n",
    "res = root_scalar(\n",
    "    lambda dL: (_fn(dL) - SNR_THRESH), bracket=(0.1e6 * PC, 100000e6 * PC)\n",
    ")\n",
    "assert res.converged\n",
    "DL = res.root\n",
    "\n",
    "# System at correct distance\n",
    "DD_D = DynamicDress(\n",
    "    _DD_D.gamma_s,\n",
    "    _DD_D.rho_6,\n",
    "    _DD_D.M_chirp,\n",
    "    _DD_D.q,\n",
    "    _DD_D.Phi_c,\n",
    "    _DD_D.tT_c,\n",
    "    DL,\n",
    "    _DD_D.f_c,\n",
    ")"
   ]
  },
  {
   "cell_type": "code",
   "execution_count": 35,
   "id": "60b2cfbe-e429-4818-a2fa-3eaaa02debe5",
   "metadata": {},
   "outputs": [],
   "source": [
    "def replace_tT_c(dd, tT_c) -> DynamicDress:\n",
    "    return DynamicDress(\n",
    "        dd.gamma_s, dd.rho_6, dd.M_chirp, dd.q, dd.Phi_c, tT_c, dd.dL, dd.f_c\n",
    "    )\n",
    "\n",
    "\n",
    "def rho_6_nondim(rho_6):\n",
    "    return rho_6 / (1e13 * MSUN / PC**3)\n",
    "\n",
    "\n",
    "def rho_6_redim(rho_6_nd):\n",
    "    return rho_6_nd * (1e13 * MSUN / PC**3)"
   ]
  },
  {
   "cell_type": "code",
   "execution_count": 65,
   "id": "9ea12a86-d324-43bd-bc5f-efcc863e4b4c",
   "metadata": {},
   "outputs": [],
   "source": [
    "# Various samplers and unpackers\n",
    "def sample_Mc_tTc() -> Array:\n",
    "    return jnp.array(\n",
    "        [\n",
    "            M_CHIRP / MSUN * (1 + 6e-8 * (np.random.rand(1) - 0.5)),\n",
    "            0.0004 * (np.random.rand(1) - 0.5),\n",
    "        ]\n",
    "    )\n",
    "\n",
    "\n",
    "def unpack_Mc_tTc(x: Array) -> DynamicDress:\n",
    "    M_chirp_MSUN, tT_c = x\n",
    "    M_chirp = M_chirp_MSUN * MSUN\n",
    "    m_1 = get_m_1(M_chirp, DD_D.q)\n",
    "    rho_6 = get_rho_6(RHO_S, m_1, DD_D.gamma_s)\n",
    "    f_c = get_f_isco(m_1)\n",
    "    return DynamicDress(\n",
    "        DD_D.gamma_s, rho_6, M_chirp, DD_D.q, DD_D.Phi_c, tT_c, DD_D.dL, f_c\n",
    "    )\n",
    "\n",
    "\n",
    "# 1D\n",
    "def sample_Mc() -> Array:\n",
    "    return jnp.array(\n",
    "        [M_CHIRP / MSUN * (1 + 6e-8 * (np.random.rand(1) - 0.5))]\n",
    "    )\n",
    "\n",
    "\n",
    "def unpack_Mc(x: Array) -> DynamicDress:\n",
    "    M_chirp_MSUN = x[0]\n",
    "    M_chirp = M_chirp_MSUN * MSUN\n",
    "    m_1 = get_m_1(M_chirp, DD_D.q)\n",
    "    rho_6 = get_rho_6(RHO_S, m_1, DD_D.gamma_s)\n",
    "    f_c = get_f_isco(m_1)\n",
    "    return DynamicDress(\n",
    "        DD_D.gamma_s, rho_6, M_chirp, DD_D.q, DD_D.Phi_c, DD_D.tT_c, DD_D.dL, f_c\n",
    "    )"
   ]
  },
  {
   "cell_type": "code",
   "execution_count": 15,
   "id": "67c28687-0d7d-4c2c-a264-9768e7ff2699",
   "metadata": {},
   "outputs": [],
   "source": [
    "@jax.jit\n",
    "def ll_cut_fn(dd_h, f_range_h):\n",
    "    \"\"\"\n",
    "    LL with correct frequency ranges. This is the deepest we can jit.\n",
    "    \"\"\"\n",
    "    return loglikelihood_cut(dd_h, DD_D, f_range_h, F_RANGE_D, FS, S_n)\n",
    "\n",
    "\n",
    "def ll_nomax_fn(\n",
    "    x: Array, unpack: Callable[[Array], DynamicDress]\n",
    ") -> Array:\n",
    "    \"\"\"\n",
    "    Log-likelihood *without* tT_c maximization.\n",
    "    \"\"\"\n",
    "    dd_h = unpack(x)\n",
    "    f_range_h = get_f_range(dd_h, T_OBS)\n",
    "    return ll_cut_fn(dd_h, f_range_h)\n",
    "\n",
    "\n",
    "def ll_fn(\n",
    "    x: Array,\n",
    "    unpack: Callable[[Array], DynamicDress],\n",
    "    bracket: Tuple[Array, Array] = (jnp.array(-1e-3), jnp.array(1e-3))\n",
    ") -> Array:\n",
    "    \"\"\"\n",
    "    Log-likelihood *with* tT_c maximization.\n",
    "    \"\"\"\n",
    "    dd = unpack(x)\n",
    "\n",
    "    def _nll(tT_c):\n",
    "        \"\"\"\n",
    "        Negative log-likelihood.\n",
    "        \"\"\"\n",
    "        dd_h = replace_tT_c(dd, tT_c)\n",
    "        f_range_h = get_f_range(dd_h, T_OBS)\n",
    "        return -ll_cut_fn(dd_h, f_range_h)\n",
    "\n",
    "    res = minimize_scalar(_nll, bracket=bracket)\n",
    "    assert res.success, f\"tT_c maximization failed: {res}\"\n",
    "    return -res.fun"
   ]
  },
  {
   "cell_type": "markdown",
   "id": "b1dc091b-7bfb-4b93-90f5-60aa15baaab4",
   "metadata": {
    "jp-MarkdownHeadingCollapsed": true,
    "tags": []
   },
   "source": [
    "## Benchmark"
   ]
  },
  {
   "cell_type": "code",
   "execution_count": 12,
   "id": "cdd51e6d-d88b-42d0-823d-24851778cdfd",
   "metadata": {},
   "outputs": [
    {
     "name": "stdout",
     "output_type": "stream",
     "text": [
      "Without tT_c maximization\n",
      "compiling and evaluating: 71.64538769011027\n",
      "0.20483191013336183\n"
     ]
    }
   ],
   "source": [
    "print(\"Without tT_c maximization\")\n",
    "print(\"compiling and evaluating:\", ll_nomax_fn(sample_Mc_tTc()))\n",
    "\n",
    "n_loops = 3\n",
    "t_start = time.time()\n",
    "for _ in range(n_loops):\n",
    "    ll_nomax_fn(sample_Mc_tTc()).block_until_ready()\n",
    "print((time.time() - t_start) / n_loops)"
   ]
  },
  {
   "cell_type": "code",
   "execution_count": 15,
   "id": "b0a6a6db-449c-4ec0-81ce-a43ebcbb9b73",
   "metadata": {},
   "outputs": [
    {
     "name": "stdout",
     "output_type": "stream",
     "text": [
      "With tT_c maximization\n",
      "compiling and evaluating: -71.85888983416255\n",
      "4.818462586402893\n"
     ]
    }
   ],
   "source": [
    "print(\"With tT_c maximization\")\n",
    "print(\"compiling and evaluating:\", ll_fn(sample_Mc_tTc()))\n",
    "\n",
    "n_loops = 3\n",
    "t_start = time.time()\n",
    "for _ in range(n_loops):\n",
    "    ll_fn(sample_Mc()).block_until_ready()\n",
    "print((time.time() - t_start) / n_loops)"
   ]
  },
  {
   "cell_type": "markdown",
   "id": "d1fc6084-ceaa-491d-9985-e4ec313c552e",
   "metadata": {
    "jp-MarkdownHeadingCollapsed": true,
    "tags": []
   },
   "source": [
    "## 1D"
   ]
  },
  {
   "cell_type": "code",
   "execution_count": 26,
   "id": "34b4db19-6562-426b-b292-6eb9f7c96b6f",
   "metadata": {},
   "outputs": [],
   "source": [
    "Mcs = jnp.linspace(M_CHIRP / MSUN * (1 - 1e-7), M_CHIRP / MSUN * (1 + 1e-7), 100)\n",
    "lls = jnp.array(list(map(lambda Mc: ll_fn([Mc]), Mcs)))"
   ]
  },
  {
   "cell_type": "code",
   "execution_count": 27,
   "id": "175e22be-340a-4233-9e21-dbe0ab6e98c3",
   "metadata": {},
   "outputs": [
    {
     "data": {
      "text/plain": [
       "[<matplotlib.lines.Line2D at 0x1515dad29580>]"
      ]
     },
     "execution_count": 27,
     "metadata": {},
     "output_type": "execute_result"
    },
    {
     "data": {
      "image/png": "[encoded data removed]",
      "text/plain": [
       "<Figure size 432x288 with 1 Axes>"
      ]
     },
     "metadata": {
      "needs_background": "light"
     },
     "output_type": "display_data"
    }
   ],
   "source": [
    "plt.plot(McsMc_MSUNsxp(lls))"
   ]
  },
  {
   "cell_type": "markdown",
   "id": "2b0f5e18-9820-4126-b7de-4395c4b25288",
   "metadata": {},
   "source": [
    "## 2D"
   ]
  },
  {
   "cell_type": "code",
   "execution_count": 87,
   "id": "e4c08deb-4bf1-4a1e-bbb1-2c3e9c831de6",
   "metadata": {},
   "outputs": [],
   "source": [
    "def sample_2d() -> Array:\n",
    "    return jnp.array([\n",
    "        M_CHIRP / MSUN * (1 + 1.25e-7 * 2 * (np.random.rand() - 0.5)),\n",
    "        rho_6_nondim(RHO_6) * (1 + 6e-3 * 2 * (np.random.rand() - 0.5))\n",
    "    ])\n",
    "\n",
    "\n",
    "def unpack_2d(x: Array) -> DynamicDress:\n",
    "    M_chirp_MSUN, rho_6_nd = x\n",
    "    M_chirp = M_chirp_MSUN * MSUN\n",
    "    rho_6 = rho_6_redim(rho_6_nd)\n",
    "    f_c = get_f_isco(get_m_1(M_chirp, DD_D.q))\n",
    "    return DynamicDress(\n",
    "        DD_D.gamma_s, rho_6, M_chirp, DD_D.q, DD_D.Phi_c, DD_D.tT_c, DD_D.dL, f_c\n",
    "    )"
   ]
  },
  {
   "cell_type": "code",
   "execution_count": 88,
   "id": "359bb514-9037-4b92-b404-b0163e51b7b8",
   "metadata": {},
   "outputs": [
    {
     "name": "stderr",
     "output_type": "stream",
     "text": [
      "\n",
      "  0%|          | 0/200 [00:00<?, ?it/s]\u001b[A\n",
      "  0%|          | 1/200 [00:02<09:26,  2.85s/it]\u001b[A\n",
      "  1%|          | 2/200 [00:05<08:42,  2.64s/it]\u001b[A\n",
      "  2%|▏         | 3/200 [00:07<08:36,  2.62s/it]\u001b[A\n",
      "  2%|▏         | 4/200 [00:10<08:23,  2.57s/it]\u001b[A\n",
      "  2%|▎         | 5/200 [00:13<08:30,  2.62s/it]\u001b[A\n",
      "  3%|▎         | 6/200 [00:16<09:18,  2.88s/it]\u001b[A\n",
      "  4%|▎         | 7/200 [00:19<09:47,  3.05s/it]\u001b[A\n",
      "  4%|▍         | 8/200 [00:22<09:10,  2.87s/it]\u001b[A\n",
      "  4%|▍         | 9/200 [00:25<09:12,  2.89s/it]\u001b[A\n",
      "  5%|▌         | 10/200 [00:28<08:58,  2.84s/it]\u001b[A\n",
      "  6%|▌         | 11/200 [00:31<09:15,  2.94s/it]\u001b[A\n",
      "  6%|▌         | 12/200 [00:34<09:19,  2.97s/it]\u001b[A\n",
      "  6%|▋         | 13/200 [00:36<08:48,  2.83s/it]\u001b[A\n",
      "  7%|▋         | 14/200 [00:39<08:27,  2.73s/it]\u001b[A\n",
      "  8%|▊         | 15/200 [00:42<08:42,  2.82s/it]\u001b[A\n",
      "  8%|▊         | 16/200 [00:44<08:26,  2.76s/it]\u001b[A\n",
      "  8%|▊         | 17/200 [00:47<07:57,  2.61s/it]\u001b[A\n",
      "  9%|▉         | 18/200 [00:50<08:13,  2.71s/it]\u001b[A\n",
      " 10%|▉         | 19/200 [00:52<08:16,  2.74s/it]\u001b[A\n",
      " 10%|█         | 20/200 [00:56<08:43,  2.91s/it]\u001b[A\n",
      " 10%|█         | 21/200 [00:59<08:55,  2.99s/it]\u001b[A\n",
      " 11%|█         | 22/200 [01:02<08:31,  2.88s/it]\u001b[A\n",
      " 12%|█▏        | 23/200 [01:05<09:03,  3.07s/it]\u001b[A\n",
      " 12%|█▏        | 24/200 [01:07<08:12,  2.80s/it]\u001b[A\n",
      " 12%|█▎        | 25/200 [01:10<08:11,  2.81s/it]\u001b[A\n",
      " 13%|█▎        | 26/200 [01:13<08:21,  2.88s/it]\u001b[A\n",
      " 14%|█▎        | 27/200 [01:16<08:10,  2.84s/it]\u001b[A\n",
      " 14%|█▍        | 28/200 [01:18<07:21,  2.57s/it]\u001b[A\n",
      " 14%|█▍        | 29/200 [01:21<07:55,  2.78s/it]\u001b[A\n",
      " 15%|█▌        | 30/200 [01:23<07:32,  2.66s/it]\u001b[A\n",
      " 16%|█▌        | 31/200 [01:26<07:15,  2.57s/it]\u001b[A\n",
      " 16%|█▌        | 32/200 [01:28<06:57,  2.48s/it]\u001b[A\n",
      " 16%|█▋        | 33/200 [01:31<07:06,  2.55s/it]\u001b[A\n",
      " 17%|█▋        | 34/200 [01:34<07:28,  2.70s/it]\u001b[A\n",
      " 18%|█▊        | 35/200 [01:36<07:04,  2.57s/it]\u001b[A\n",
      " 18%|█▊        | 36/200 [01:39<06:58,  2.55s/it]\u001b[A\n",
      " 18%|█▊        | 37/200 [01:42<07:31,  2.77s/it]\u001b[A\n",
      " 19%|█▉        | 38/200 [01:46<08:10,  3.03s/it]\u001b[A\n",
      " 20%|█▉        | 39/200 [01:48<08:03,  3.00s/it]\u001b[A\n",
      " 20%|██        | 40/200 [01:51<07:52,  2.95s/it]\u001b[A\n",
      " 20%|██        | 41/200 [01:54<07:38,  2.88s/it]\u001b[A\n",
      " 21%|██        | 42/200 [01:57<07:17,  2.77s/it]\u001b[A\n",
      " 22%|██▏       | 43/200 [01:59<07:11,  2.75s/it]\u001b[A\n",
      " 22%|██▏       | 44/200 [02:02<07:23,  2.84s/it]\u001b[A\n",
      " 22%|██▎       | 45/200 [02:05<07:21,  2.85s/it]\u001b[A\n",
      " 23%|██▎       | 46/200 [02:08<06:57,  2.71s/it]\u001b[A\n",
      " 24%|██▎       | 47/200 [02:10<06:49,  2.68s/it]\u001b[A\n",
      " 24%|██▍       | 48/200 [02:13<06:54,  2.73s/it]\u001b[A\n",
      " 24%|██▍       | 49/200 [02:15<06:41,  2.66s/it]\u001b[A\n",
      " 25%|██▌       | 50/200 [02:18<06:52,  2.75s/it]\u001b[A\n",
      " 26%|██▌       | 51/200 [02:21<06:54,  2.78s/it]\u001b[A\n",
      " 26%|██▌       | 52/200 [02:24<06:59,  2.83s/it]\u001b[A\n",
      " 26%|██▋       | 53/200 [02:27<07:06,  2.90s/it]\u001b[A\n",
      " 27%|██▋       | 54/200 [02:30<07:05,  2.91s/it]\u001b[A\n",
      " 28%|██▊       | 55/200 [02:33<06:50,  2.83s/it]\u001b[A\n",
      " 28%|██▊       | 56/200 [02:35<06:37,  2.76s/it]\u001b[A\n",
      " 28%|██▊       | 57/200 [02:38<06:33,  2.75s/it]\u001b[A\n",
      " 29%|██▉       | 58/200 [02:41<06:29,  2.74s/it]\u001b[A\n",
      " 30%|██▉       | 59/200 [02:44<06:35,  2.81s/it]\u001b[A\n",
      " 30%|███       | 60/200 [02:47<06:29,  2.78s/it]\u001b[A\n",
      " 30%|███       | 61/200 [02:50<06:43,  2.90s/it]\u001b[A\n",
      " 31%|███       | 62/200 [02:53<06:42,  2.92s/it]\u001b[A\n",
      " 32%|███▏      | 63/200 [02:55<06:31,  2.86s/it]\u001b[A\n",
      " 32%|███▏      | 64/200 [02:58<06:04,  2.68s/it]\u001b[A\n",
      " 32%|███▎      | 65/200 [03:01<06:07,  2.72s/it]\u001b[A\n",
      " 33%|███▎      | 66/200 [03:04<06:32,  2.93s/it]\u001b[A\n",
      " 34%|███▎      | 67/200 [03:07<06:16,  2.83s/it]\u001b[A\n",
      " 34%|███▍      | 68/200 [03:09<06:09,  2.80s/it]\u001b[A\n",
      " 34%|███▍      | 69/200 [03:13<06:31,  2.99s/it]\u001b[A\n",
      " 35%|███▌      | 70/200 [03:16<06:27,  2.98s/it]\u001b[A\n",
      " 36%|███▌      | 71/200 [03:18<06:14,  2.90s/it]\u001b[A\n",
      " 36%|███▌      | 72/200 [03:21<05:51,  2.74s/it]\u001b[A\n",
      " 36%|███▋      | 73/200 [03:24<06:13,  2.94s/it]\u001b[A\n",
      " 37%|███▋      | 74/200 [03:27<06:14,  2.98s/it]\u001b[A\n",
      " 38%|███▊      | 75/200 [03:30<05:58,  2.87s/it]\u001b[A\n",
      " 38%|███▊      | 76/200 [03:32<05:33,  2.69s/it]\u001b[A\n",
      " 38%|███▊      | 77/200 [03:35<05:36,  2.73s/it]\u001b[A\n",
      " 39%|███▉      | 78/200 [03:38<05:36,  2.76s/it]\u001b[A\n",
      " 40%|███▉      | 79/200 [03:41<05:53,  2.92s/it]\u001b[A\n",
      " 40%|████      | 80/200 [03:45<06:23,  3.20s/it]\u001b[A\n",
      " 40%|████      | 81/200 [03:47<05:55,  2.99s/it]\u001b[A\n",
      " 41%|████      | 82/200 [03:50<05:38,  2.87s/it]\u001b[A\n",
      " 42%|████▏     | 83/200 [03:54<06:02,  3.10s/it]\u001b[A\n",
      " 42%|████▏     | 84/200 [03:56<05:22,  2.78s/it]\u001b[A\n",
      " 42%|████▎     | 85/200 [03:58<05:17,  2.76s/it]\u001b[A\n",
      " 43%|████▎     | 86/200 [04:01<05:17,  2.79s/it]\u001b[A\n",
      " 44%|████▎     | 87/200 [04:04<05:01,  2.67s/it]\u001b[A\n",
      " 44%|████▍     | 88/200 [04:07<05:24,  2.90s/it]\u001b[A\n",
      " 44%|████▍     | 89/200 [04:10<05:19,  2.88s/it]\u001b[A\n",
      " 45%|████▌     | 90/200 [04:13<05:19,  2.90s/it]\u001b[A\n",
      " 46%|████▌     | 91/200 [04:16<05:14,  2.89s/it]\u001b[A\n",
      " 46%|████▌     | 92/200 [04:19<05:21,  2.98s/it]\u001b[A\n",
      " 46%|████▋     | 93/200 [04:22<05:07,  2.87s/it]\u001b[A\n",
      " 47%|████▋     | 94/200 [04:24<04:49,  2.73s/it]\u001b[A\n",
      " 48%|████▊     | 95/200 [04:27<04:43,  2.70s/it]\u001b[A\n",
      " 48%|████▊     | 96/200 [04:29<04:45,  2.74s/it]\u001b[A\n",
      " 48%|████▊     | 97/200 [04:33<05:06,  2.98s/it]\u001b[A\n",
      " 49%|████▉     | 98/200 [04:36<04:52,  2.87s/it]\u001b[A\n",
      " 50%|████▉     | 99/200 [04:39<04:56,  2.93s/it]\u001b[A\n",
      " 50%|█████     | 100/200 [04:41<04:50,  2.91s/it]\u001b[A\n",
      " 50%|█████     | 101/200 [04:44<04:42,  2.86s/it]\u001b[A\n",
      " 51%|█████     | 102/200 [04:47<04:29,  2.75s/it]\u001b[A\n",
      " 52%|█████▏    | 103/200 [04:50<04:39,  2.88s/it]\u001b[A\n",
      " 52%|█████▏    | 104/200 [04:53<04:41,  2.94s/it]\u001b[A\n",
      " 52%|█████▎    | 105/200 [04:56<04:36,  2.91s/it]\u001b[A\n",
      " 53%|█████▎    | 106/200 [04:59<04:38,  2.96s/it]\u001b[A\n",
      " 54%|█████▎    | 107/200 [05:02<04:25,  2.85s/it]\u001b[A\n",
      " 54%|█████▍    | 108/200 [05:04<04:25,  2.88s/it]\u001b[A\n",
      " 55%|█████▍    | 109/200 [05:07<04:24,  2.90s/it]\u001b[A\n",
      " 55%|█████▌    | 110/200 [05:10<04:07,  2.75s/it]\u001b[A\n",
      " 56%|█████▌    | 111/200 [05:12<04:01,  2.71s/it]\u001b[A\n",
      " 56%|█████▌    | 112/200 [05:15<03:56,  2.68s/it]\u001b[A\n",
      " 56%|█████▋    | 113/200 [05:18<03:54,  2.70s/it]\u001b[A\n",
      " 57%|█████▋    | 114/200 [05:21<03:58,  2.78s/it]\u001b[A\n",
      " 57%|█████▊    | 115/200 [05:23<03:49,  2.69s/it]\u001b[A\n",
      " 58%|█████▊    | 116/200 [05:26<03:50,  2.74s/it]\u001b[A\n",
      " 58%|█████▊    | 117/200 [05:29<03:55,  2.84s/it]\u001b[A\n",
      " 59%|█████▉    | 118/200 [05:32<03:44,  2.74s/it]\u001b[A\n",
      " 60%|█████▉    | 119/200 [05:35<03:50,  2.84s/it]\u001b[A\n",
      " 60%|██████    | 120/200 [05:37<03:39,  2.74s/it]\u001b[A\n",
      " 60%|██████    | 121/200 [05:40<03:33,  2.70s/it]\u001b[A\n",
      " 61%|██████    | 122/200 [05:44<03:52,  2.98s/it]\u001b[A\n",
      " 62%|██████▏   | 123/200 [05:46<03:46,  2.94s/it]\u001b[A\n",
      " 62%|██████▏   | 124/200 [05:49<03:38,  2.88s/it]\u001b[A\n",
      " 62%|██████▎   | 125/200 [05:52<03:42,  2.97s/it]\u001b[A\n",
      " 63%|██████▎   | 126/200 [05:55<03:31,  2.86s/it]\u001b[A\n",
      " 64%|██████▎   | 127/200 [05:58<03:25,  2.81s/it]\u001b[A\n",
      " 64%|██████▍   | 128/200 [06:00<03:20,  2.78s/it]\u001b[A\n",
      " 64%|██████▍   | 129/200 [06:03<03:13,  2.73s/it]\u001b[A\n",
      " 65%|██████▌   | 130/200 [06:06<03:13,  2.77s/it]\u001b[A\n",
      " 66%|██████▌   | 131/200 [06:08<02:58,  2.58s/it]\u001b[A\n",
      " 66%|██████▌   | 132/200 [06:11<02:56,  2.60s/it]\u001b[A\n",
      " 66%|██████▋   | 133/200 [06:13<03:01,  2.70s/it]\u001b[A\n",
      " 67%|██████▋   | 134/200 [06:16<02:52,  2.61s/it]\u001b[A\n",
      " 68%|██████▊   | 135/200 [06:19<02:54,  2.68s/it]\u001b[A\n",
      " 68%|██████▊   | 136/200 [06:21<02:45,  2.59s/it]\u001b[A\n",
      " 68%|██████▊   | 137/200 [06:23<02:39,  2.53s/it]\u001b[A\n",
      " 69%|██████▉   | 138/200 [06:26<02:38,  2.55s/it]\u001b[A\n",
      " 70%|██████▉   | 139/200 [06:28<02:32,  2.50s/it]\u001b[A\n",
      " 70%|███████   | 140/200 [06:31<02:28,  2.47s/it]\u001b[A\n",
      " 70%|███████   | 141/200 [06:34<02:42,  2.76s/it]\u001b[A\n",
      " 71%|███████   | 142/200 [06:37<02:35,  2.68s/it]\u001b[A\n",
      " 72%|███████▏  | 143/200 [06:40<02:39,  2.80s/it]\u001b[A\n",
      " 72%|███████▏  | 144/200 [06:42<02:33,  2.74s/it]\u001b[A\n",
      " 72%|███████▎  | 145/200 [06:45<02:32,  2.77s/it]\u001b[A\n",
      " 73%|███████▎  | 146/200 [06:48<02:28,  2.75s/it]\u001b[A\n",
      " 74%|███████▎  | 147/200 [06:51<02:25,  2.75s/it]\u001b[A\n",
      " 74%|███████▍  | 148/200 [06:53<02:12,  2.54s/it]\u001b[A\n",
      " 74%|███████▍  | 149/200 [06:56<02:12,  2.60s/it]\u001b[A\n",
      " 75%|███████▌  | 150/200 [06:58<02:10,  2.60s/it]\u001b[A\n",
      " 76%|███████▌  | 151/200 [07:01<02:14,  2.74s/it]\u001b[A\n",
      " 76%|███████▌  | 152/200 [07:04<02:11,  2.74s/it]\u001b[A\n",
      " 76%|███████▋  | 153/200 [07:07<02:18,  2.94s/it]\u001b[A\n",
      " 77%|███████▋  | 154/200 [07:10<02:10,  2.84s/it]\u001b[A\n",
      " 78%|███████▊  | 155/200 [07:12<02:01,  2.70s/it]\u001b[A\n",
      " 78%|███████▊  | 156/200 [07:15<01:59,  2.71s/it]\u001b[A\n",
      " 78%|███████▊  | 157/200 [07:18<01:55,  2.68s/it]\u001b[A\n",
      " 79%|███████▉  | 158/200 [07:20<01:51,  2.66s/it]\u001b[A\n",
      " 80%|███████▉  | 159/200 [07:23<01:49,  2.68s/it]\u001b[A\n",
      " 80%|████████  | 160/200 [07:26<01:49,  2.73s/it]\u001b[A\n",
      " 80%|████████  | 161/200 [07:29<01:46,  2.73s/it]\u001b[A\n",
      " 81%|████████  | 162/200 [07:32<01:47,  2.83s/it]\u001b[A\n",
      " 82%|████████▏ | 163/200 [07:34<01:43,  2.80s/it]\u001b[A\n",
      " 82%|████████▏ | 164/200 [07:37<01:39,  2.78s/it]\u001b[A\n",
      " 82%|████████▎ | 165/200 [07:40<01:37,  2.79s/it]\u001b[A\n",
      " 83%|████████▎ | 166/200 [07:42<01:31,  2.71s/it]\u001b[A\n",
      " 84%|████████▎ | 167/200 [07:45<01:26,  2.61s/it]\u001b[A\n",
      " 84%|████████▍ | 168/200 [07:47<01:23,  2.61s/it]\u001b[A\n",
      " 84%|████████▍ | 169/200 [07:50<01:18,  2.54s/it]\u001b[A\n",
      " 85%|████████▌ | 170/200 [07:53<01:17,  2.60s/it]\u001b[A\n",
      " 86%|████████▌ | 171/200 [07:55<01:17,  2.68s/it]\u001b[A\n",
      " 86%|████████▌ | 172/200 [07:58<01:16,  2.73s/it]\u001b[A\n",
      " 86%|████████▋ | 173/200 [08:01<01:10,  2.62s/it]\u001b[A\n",
      " 87%|████████▋ | 174/200 [08:03<01:04,  2.48s/it]\u001b[A\n",
      " 88%|████████▊ | 175/200 [08:06<01:08,  2.72s/it]\u001b[A\n",
      " 88%|████████▊ | 176/200 [08:09<01:05,  2.72s/it]\u001b[A\n",
      " 88%|████████▊ | 177/200 [08:12<01:05,  2.83s/it]\u001b[A\n",
      " 89%|████████▉ | 178/200 [08:15<01:03,  2.87s/it]\u001b[A\n",
      " 90%|████████▉ | 179/200 [08:17<00:57,  2.73s/it]\u001b[A\n",
      " 90%|█████████ | 180/200 [08:20<00:53,  2.69s/it]\u001b[A\n",
      " 90%|█████████ | 181/200 [08:22<00:48,  2.57s/it]\u001b[A\n",
      " 91%|█████████ | 182/200 [08:25<00:47,  2.65s/it]\u001b[A\n",
      " 92%|█████████▏| 183/200 [08:27<00:41,  2.46s/it]\u001b[A\n",
      " 92%|█████████▏| 184/200 [08:30<00:40,  2.54s/it]\u001b[A\n",
      " 92%|█████████▎| 185/200 [08:33<00:39,  2.62s/it]\u001b[A\n",
      " 93%|█████████▎| 186/200 [08:35<00:36,  2.58s/it]\u001b[A\n",
      " 94%|█████████▎| 187/200 [08:38<00:35,  2.76s/it]\u001b[A\n",
      " 94%|█████████▍| 188/200 [08:40<00:31,  2.61s/it]\u001b[A\n",
      " 94%|█████████▍| 189/200 [08:43<00:28,  2.57s/it]\u001b[A\n",
      " 95%|█████████▌| 190/200 [08:46<00:26,  2.69s/it]\u001b[A\n",
      " 96%|█████████▌| 191/200 [08:49<00:23,  2.66s/it]\u001b[A\n",
      " 96%|█████████▌| 192/200 [08:51<00:21,  2.65s/it]\u001b[A\n",
      " 96%|█████████▋| 193/200 [08:54<00:19,  2.74s/it]\u001b[A\n",
      " 97%|█████████▋| 194/200 [08:57<00:17,  2.87s/it]\u001b[A\n",
      " 98%|█████████▊| 195/200 [09:00<00:13,  2.72s/it]\u001b[A\n",
      " 98%|█████████▊| 196/200 [09:03<00:12,  3.02s/it]\u001b[A\n",
      " 98%|█████████▊| 197/200 [09:07<00:09,  3.24s/it]\u001b[A\n",
      " 99%|█████████▉| 198/200 [09:10<00:06,  3.01s/it]\u001b[A\n",
      "100%|█████████▉| 199/200 [09:12<00:02,  2.92s/it]\u001b[A\n",
      "100%|██████████| 200/200 [09:15<00:00,  2.78s/it]\u001b[A\n"
     ]
    }
   ],
   "source": [
    "Mc_MSUNs = []\n",
    "rho_6_nds = []\n",
    "lls = []\n",
    "for _ in trange(200):\n",
    "    x = sample_2d()\n",
    "    ll = ll_fn(x, unpack_2d)\n",
    "    Mc_MSUNs.append(x[0])\n",
    "    rho_6_nds.append(x[1])\n",
    "    lls.append(ll)\n",
    "\n",
    "Mc_MSUNs = jnp.array(Mc_MSUNs)\n",
    "rho_6_nds = jnp.array(rho_6_nds)\n",
    "lls = jnp.array(lls)"
   ]
  },
  {
   "cell_type": "code",
   "execution_count": 89,
   "id": "03cd0d70-f00e-4e7e-9782-e7b905435a07",
   "metadata": {},
   "outputs": [
    {
     "data": {
      "text/plain": [
       "<matplotlib.collections.PathCollection at 0x15236f6a3a30>"
      ]
     },
     "execution_count": 89,
     "metadata": {},
     "output_type": "execute_result"
    },
    {
     "data": {
      "image/png": "[encoded data removed]",
      "text/plain": [
       "<Figure size 432x288 with 1 Axes>"
      ]
     },
     "metadata": {
      "needs_background": "light"
     },
     "output_type": "display_data"
    }
   ],
   "source": [
    "plt.scatter((Mc_MSUNs - M_CHIRP / MSUN) / (M_CHIRP / MSUN), rho_6_nds, c=jnp.exp(lls))"
   ]
  },
  {
   "cell_type": "code",
   "execution_count": null,
   "id": "0a8e1828-c623-4d98-924b-88b8c4926138",
   "metadata": {},
   "outputs": [],
   "source": []
  }
 ],
 "metadata": {
  "kernelspec": {
   "display_name": "dd-3.9.6",
   "language": "python",
   "name": "dd-3.9.6"
  },
  "language_info": {
   "codemirror_mode": {
    "name": "ipython",
    "version": 3
   },
   "file_extension": ".py",
   "mimetype": "text/x-python",
   "name": "python",
   "nbconvert_exporter": "python",
   "pygments_lexer": "ipython3",
   "version": "3.9.6"
  }
 },
 "nbformat": 4,
 "nbformat_minor": 5
}
