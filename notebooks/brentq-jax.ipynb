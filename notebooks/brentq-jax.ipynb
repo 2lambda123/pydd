{
 "cells": [
  {
   "cell_type": "markdown",
   "id": "advisory-estate",
   "metadata": {},
   "source": [
    "Porting `brentq` to jax. Probably not necessary given existence of [jaxopt](https://github.com/google/jaxopt)..."
   ]
  },
  {
   "cell_type": "code",
   "execution_count": 48,
   "id": "young-lover",
   "metadata": {},
   "outputs": [],
   "source": [
    "from functools import partial\n",
    "from typing import Callable, Tuple, Union\n",
    "\n",
    "from jax import jit\n",
    "from jax.experimental.host_callback import id_print\n",
    "import jax.numpy as jnp\n",
    "from scipy.optimize import root_scalar\n",
    "\n",
    "Array = jnp.ndarray\n",
    "ArrOrF = Union[Array, float]"
   ]
  },
  {
   "cell_type": "code",
   "execution_count": 139,
   "id": "nominated-anger",
   "metadata": {},
   "outputs": [],
   "source": [
    "EPS = jnp.array(jnp.finfo(float).eps)\n",
    "\n",
    "@partial(jit, static_argnums=(0,))\n",
    "def brent(\n",
    "    f: Callable[[ArrOrF], ArrOrF],\n",
    "    x0: ArrOrF,\n",
    "    x1: ArrOrF,\n",
    "    xtol: ArrOrF = jnp.array(1e-7),\n",
    "    ytol: ArrOrF = 2 * EPS,\n",
    "    maxiter: int = jnp.array(50, dtype=int),\n",
    ") -> ArrOrF:\n",
    "    \"\"\"\n",
    "    Brent's method for root-finding. Ported from this julia implementation:\n",
    "    https://mmas.github.io/brent-julia.\n",
    "    \"\"\"\n",
    "    y0 = f(x0)\n",
    "    y1 = f(x1)\n",
    "    x0, y0, x1, y1 = jax.lax.cond(\n",
    "        jnp.abs(y0) < jnp.abs(y1),\n",
    "        lambda _: (x1, y1, x0, y0),\n",
    "        lambda _: (x0, y0, x1, y1),\n",
    "        None,\n",
    "    )\n",
    "    x2 = x0\n",
    "    y2 = y0\n",
    "    x3 = x2\n",
    "\n",
    "    # i=1, x=nan, y=nan\n",
    "    init_val = (1, jnp.nan, x0, x1, x2, x3, jnp.inf, y0, y1, y2, True)\n",
    "\n",
    "    def cond_fun(val):\n",
    "        i, x, x0, x1, _, _, y, _, _, _, _ = val\n",
    "        # stop if i > maxiter or |x1-x0| < xtol or |y| < ytol\n",
    "        return jnp.logical_and(\n",
    "            i <= maxiter, jnp.logical_and(jnp.abs(x1 - x0) >= xtol, jnp.abs(y) >= ytol)\n",
    "        )\n",
    "\n",
    "    def body_fun(val):\n",
    "        i, _, x0, x1, x2, x3, _, y0, y1, y2, bisection = val\n",
    "\n",
    "        # Use inverse quadratic interpolation if f(x0) != f(x1) != f(x2)\n",
    "        # and linear interpolation (secant method) otherwise\n",
    "        x = jax.lax.cond(\n",
    "            jnp.logical_and(jnp.abs(y0 - y2) > ytol, jnp.abs(y1 - y2) > ytol),\n",
    "            lambda _: x0 * y1 * y2 / ((y0 - y1) * (y0 - y2))\n",
    "            + x1 * y0 * y2 / ((y1 - y0) * (y1 - y2))\n",
    "            + x2 * y0 * y1 / ((y2 - y0) * (y2 - y1)),\n",
    "            lambda _: x1 - y1 * (x1 - x0) / (y1 - y0),\n",
    "            None,\n",
    "        )\n",
    "\n",
    "        # Use bisection method if satisfies the conditions\n",
    "        delta = jnp.abs(2 * EPS * jnp.abs(x1))\n",
    "        min1 = jnp.abs(x - x1)\n",
    "        min2 = jnp.abs(x1 - x2)\n",
    "        min3 = jnp.abs(x2 - x3)\n",
    "        bisection_cond = jnp.logical_or(\n",
    "            jnp.logical_and(x < (3 * x0 + x1) / 4, x > x1),\n",
    "            jnp.logical_or(\n",
    "                jnp.logical_and(bisection, min1 >= min2 / 2),\n",
    "                jnp.logical_or(\n",
    "                    jnp.logical_and(jnp.logical_not(bisection), min1 >= min3 / 2),\n",
    "                    jnp.logical_or(\n",
    "                        jnp.logical_and(bisection, min2 < delta),\n",
    "                        jnp.logical_and(jnp.logical_not(bisection), min3 < delta),\n",
    "                    ),\n",
    "                ),\n",
    "            ),\n",
    "        )\n",
    "        x, bisection = jax.lax.cond(\n",
    "            bisection_cond, lambda _: ((x0 + x1) / 2, True), lambda _: (x, False), None\n",
    "        )\n",
    "\n",
    "        y = f(x)\n",
    "\n",
    "        # Update running variables\n",
    "        x3 = x2\n",
    "        x2 = x1\n",
    "        x0, y0, x1, y1 = jax.lax.cond(\n",
    "            jnp.sign(y0) != jnp.sign(y),\n",
    "            lambda _: (x0, y0, x, y),\n",
    "            lambda _: (x, y, x1, y1),\n",
    "            None,\n",
    "        )\n",
    "        x0, y0, x1, y1 = jax.lax.cond(\n",
    "            jnp.abs(y0) < jnp.abs(y1),\n",
    "            lambda _: (x1, y1, x0, y0),\n",
    "            lambda _: (x0, y0, x1, y1),\n",
    "            None,\n",
    "        )\n",
    "        return (i + 1, x, x0, x1, x2, x3, y, y0, y1, y2, bisection)\n",
    "\n",
    "    val = jax.lax.while_loop(cond_fun, body_fun, init_val)\n",
    "    i, x = val[0], val[1]\n",
    "    x = jax.lax.cond(i == maxiter, lambda _: jnp.nan, lambda _: x, None)\n",
    "    return {\"converged\": jnp.logical_not(jnp.isnan(x)), \"iterations\": i, \"root\": x}"
   ]
  },
  {
   "cell_type": "code",
   "execution_count": 140,
   "id": "bottom-monster",
   "metadata": {},
   "outputs": [],
   "source": [
    "@jit\n",
    "def f(x):\n",
    "    return x**4 - 2 * x**2 + 1 / 4"
   ]
  },
  {
   "cell_type": "code",
   "execution_count": 141,
   "id": "israeli-corner",
   "metadata": {},
   "outputs": [
    {
     "data": {
      "text/plain": [
       "DeviceArray(0.36602542, dtype=float32)"
      ]
     },
     "execution_count": 141,
     "metadata": {},
     "output_type": "execute_result"
    }
   ],
   "source": [
    "jnp.sqrt(1 - jnp.sqrt(3) / 2)"
   ]
  },
  {
   "cell_type": "code",
   "execution_count": 142,
   "id": "infinite-consortium",
   "metadata": {},
   "outputs": [],
   "source": [
    "@partial(jit, static_argnums=(0,))\n",
    "def apply(f, x):\n",
    "    return f(x)"
   ]
  },
  {
   "cell_type": "code",
   "execution_count": 143,
   "id": "chemical-destruction",
   "metadata": {},
   "outputs": [
    {
     "name": "stdout",
     "output_type": "stream",
     "text": [
      "155 µs ± 3.22 µs per loop (mean ± std. dev. of 7 runs, 10000 loops each)\n"
     ]
    }
   ],
   "source": [
    "%timeit apply(f, jnp.array(0.5))"
   ]
  },
  {
   "cell_type": "code",
   "execution_count": 144,
   "id": "comprehensive-kuwait",
   "metadata": {},
   "outputs": [
    {
     "name": "stdout",
     "output_type": "stream",
     "text": [
      "339 µs ± 3.89 µs per loop (mean ± std. dev. of 7 runs, 1000 loops each)\n"
     ]
    }
   ],
   "source": [
    "%timeit brent(f, jnp.array(0.0), jnp.array(1.0))[\"root\"].block_until_ready()"
   ]
  },
  {
   "cell_type": "code",
   "execution_count": 128,
   "id": "labeled-radio",
   "metadata": {},
   "outputs": [
    {
     "name": "stdout",
     "output_type": "stream",
     "text": [
      " "
     ]
    }
   ],
   "source": [
    "%prun -s cumulative [brent(f, jnp.array(0.0), jnp.array(1.0))[\"root\"].block_until_ready() for _ in range(100)]"
   ]
  },
  {
   "cell_type": "code",
   "execution_count": 111,
   "id": "streaming-commonwealth",
   "metadata": {},
   "outputs": [
    {
     "name": "stdout",
     "output_type": "stream",
     "text": [
      "11.2 µs ± 105 ns per loop (mean ± std. dev. of 7 runs, 100000 loops each)\n"
     ]
    }
   ],
   "source": [
    "%timeit root_scalar(f, bracket=(0.0, 1.0), maxiter=50, method=\"brentq\").root"
   ]
  },
  {
   "cell_type": "code",
   "execution_count": null,
   "id": "configured-pendant",
   "metadata": {},
   "outputs": [],
   "source": []
  },
  {
   "cell_type": "code",
   "execution_count": null,
   "id": "cardiovascular-project",
   "metadata": {},
   "outputs": [],
   "source": []
  },
  {
   "cell_type": "code",
   "execution_count": null,
   "id": "related-racing",
   "metadata": {},
   "outputs": [],
   "source": []
  },
  {
   "cell_type": "code",
   "execution_count": null,
   "id": "destroyed-soundtrack",
   "metadata": {},
   "outputs": [],
   "source": []
  },
  {
   "cell_type": "code",
   "execution_count": null,
   "id": "electoral-stylus",
   "metadata": {},
   "outputs": [],
   "source": []
  },
  {
   "cell_type": "code",
   "execution_count": null,
   "id": "sharing-rabbit",
   "metadata": {},
   "outputs": [],
   "source": []
  }
 ],
 "metadata": {
  "@webio": {
   "lastCommId": null,
   "lastKernelId": null
  },
  "kernelspec": {
   "display_name": "Python 3",
   "language": "python",
   "name": "python3"
  },
  "language_info": {
   "codemirror_mode": {
    "name": "ipython",
    "version": 3
   },
   "file_extension": ".py",
   "mimetype": "text/x-python",
   "name": "python",
   "nbconvert_exporter": "python",
   "pygments_lexer": "ipython3",
   "version": "3.9.1"
  }
 },
 "nbformat": 4,
 "nbformat_minor": 5
}
