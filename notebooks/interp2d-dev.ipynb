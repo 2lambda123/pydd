{
 "cells": [
  {
   "cell_type": "markdown",
   "id": "geographic-shoulder",
   "metadata": {},
   "source": [
    "Notebook for speeding up `interp2d`. Assuming the grids are regular, swapping `searchsorted` for `ceil(...)` gives a marginal speedup in some cases."
   ]
  },
  {
   "cell_type": "code",
   "execution_count": 181,
   "id": "continued-mentor",
   "metadata": {},
   "outputs": [
    {
     "name": "stdout",
     "output_type": "stream",
     "text": [
      "The autoreload extension is already loaded. To reload it, use:\n",
      "  %reload_ext autoreload\n"
     ]
    }
   ],
   "source": [
    "%load_ext autoreload\n",
    "%autoreload 2"
   ]
  },
  {
   "cell_type": "code",
   "execution_count": 183,
   "id": "complicated-steal",
   "metadata": {},
   "outputs": [],
   "source": [
    "from math import pi\n",
    "from typing import Optional\n",
    "\n",
    "import jax\n",
    "import jax.numpy as jnp\n",
    "import matplotlib.pyplot as plt\n",
    "import numpy as np\n",
    "from scipy.interpolate import RectBivariateSpline, interp2d as sinterp2d\n",
    "\n",
    "from jaxinterp2d import interp2d\n",
    "\n",
    "Array = jnp.ndarray"
   ]
  },
  {
   "cell_type": "code",
   "execution_count": 184,
   "id": "acting-medicaid",
   "metadata": {},
   "outputs": [],
   "source": [
    "xp = jnp.linspace(-1, 1, 2000)\n",
    "yp = jnp.linspace(-1, 1, 100)\n",
    "zp = jnp.exp(-(jnp.stack((jnp.meshgrid(xp, yp))) ** 2).sum(0) / 2).T / (2 * pi)"
   ]
  },
  {
   "cell_type": "code",
   "execution_count": 185,
   "id": "recent-voltage",
   "metadata": {
    "code_folding": []
   },
   "outputs": [],
   "source": [
    "def searchsorted_right_grid(xp: Array, x: Array) -> Array:\n",
    "    # Equivalent to `jnp.searchsorted(xp, x, side=\"right\")` when `xp`\n",
    "    # is an evenly-spaced array.\n",
    "    xn = (x - xp.min()) / (xp.max() - xp.min())\n",
    "    return jnp.ceil(xn * (len(xp) - 1)).astype(int)\n",
    "\n",
    "\n",
    "def interp2d_new(\n",
    "    x: Array,\n",
    "    y: Array,\n",
    "    xp: Array,\n",
    "    yp: Array,\n",
    "    zp: Array,\n",
    "    fill_value: float = jnp.nan,\n",
    ") -> Array:\n",
    "    # Assumes xp and yp are regularly-spaced grids\n",
    "    ix = jnp.clip(searchsorted_right_grid(xp, x), 1, len(xp) - 1)\n",
    "    iy = jnp.clip(searchsorted_right_grid(yp, y), 1, len(yp) - 1)\n",
    "\n",
    "    x1 = xp[ix - 1]\n",
    "    x2 = xp[ix]\n",
    "    y1 = yp[iy - 1]\n",
    "    y2 = yp[iy]\n",
    "    z11 = zp[ix - 1, iy - 1]\n",
    "    z21 = zp[ix, iy - 1]\n",
    "    z12 = zp[ix - 1, iy]\n",
    "    z22 = zp[ix, iy]\n",
    "    z = (\n",
    "        z11 * (x2 - x) * (y2 - y)\n",
    "        + z21 * (x - x1) * (y2 - y)\n",
    "        + z12 * (x2 - x) * (y - y1)\n",
    "        + z22 * (x - x1) * (y - y1)\n",
    "    ) / ((x2 - x1) * (y2 - y1))\n",
    "    return z"
   ]
  },
  {
   "cell_type": "code",
   "execution_count": 196,
   "id": "functioning-surgeon",
   "metadata": {},
   "outputs": [],
   "source": [
    "fn_interp = jax.jit(lambda x, y: interp2d(x, y, xp, yp, zp))\n",
    "fn_interp_new = jax.jit(lambda x, y: interp2d_new(x, y, xp, yp, zp))\n",
    "fn_interp_scipy = RectBivariateSpline(xp, yp, zp)"
   ]
  },
  {
   "cell_type": "markdown",
   "id": "three-equilibrium",
   "metadata": {},
   "source": [
    "Benchmarking"
   ]
  },
  {
   "cell_type": "code",
   "execution_count": 212,
   "id": "parental-amino",
   "metadata": {},
   "outputs": [
    {
     "data": {
      "text/plain": [
       "DeviceArray(True, dtype=bool)"
      ]
     },
     "execution_count": 212,
     "metadata": {},
     "output_type": "execute_result"
    }
   ],
   "source": [
    "xs = jnp.array(np.random.rand(500) * 2 - 1)\n",
    "ys = jnp.array(np.random.rand(500) * 2 - 1)\n",
    "jnp.allclose(fn_interp(xs, ys), fn_interp_new(xs, ys))"
   ]
  },
  {
   "cell_type": "code",
   "execution_count": 213,
   "id": "administrative-herald",
   "metadata": {},
   "outputs": [
    {
     "data": {
      "text/plain": [
       "DeviceArray(False, dtype=bool)"
      ]
     },
     "execution_count": 213,
     "metadata": {},
     "output_type": "execute_result"
    }
   ],
   "source": [
    "jnp.allclose(fn_interp(xs, ys), jnp.array(fn_interp_scipy(xs, ys, grid=False)))"
   ]
  },
  {
   "cell_type": "code",
   "execution_count": 214,
   "id": "ordinary-hacker",
   "metadata": {},
   "outputs": [
    {
     "name": "stdout",
     "output_type": "stream",
     "text": [
      "329 µs ± 45.5 µs per loop (mean ± std. dev. of 7 runs, 1 loop each)\n"
     ]
    }
   ],
   "source": [
    "%timeit fn_interp(*jnp.array(np.random.rand(2, 1000) * 2 - 1)).block_until_ready()"
   ]
  },
  {
   "cell_type": "code",
   "execution_count": 215,
   "id": "expensive-parliament",
   "metadata": {},
   "outputs": [
    {
     "name": "stdout",
     "output_type": "stream",
     "text": [
      "322 µs ± 13.7 µs per loop (mean ± std. dev. of 7 runs, 1000 loops each)\n"
     ]
    }
   ],
   "source": [
    "%timeit fn_interp_new(*jnp.array(np.random.rand(2, 1000) * 2 - 1)).block_until_ready()"
   ]
  },
  {
   "cell_type": "code",
   "execution_count": 220,
   "id": "prime-tribune",
   "metadata": {},
   "outputs": [
    {
     "name": "stdout",
     "output_type": "stream",
     "text": [
      "641 µs ± 5.36 µs per loop (mean ± std. dev. of 7 runs, 1000 loops each)\n"
     ]
    }
   ],
   "source": [
    "%timeit fn_interp_scipy(*(np.random.rand(2, 1000) * 2 - 1), grid=False)"
   ]
  },
  {
   "cell_type": "code",
   "execution_count": null,
   "id": "sufficient-novelty",
   "metadata": {},
   "outputs": [],
   "source": []
  }
 ],
 "metadata": {
  "@webio": {
   "lastCommId": null,
   "lastKernelId": null
  },
  "kernelspec": {
   "display_name": "Python 3",
   "language": "python",
   "name": "python3"
  },
  "language_info": {
   "codemirror_mode": {
    "name": "ipython",
    "version": 3
   },
   "file_extension": ".py",
   "mimetype": "text/x-python",
   "name": "python",
   "nbconvert_exporter": "python",
   "pygments_lexer": "ipython3",
   "version": "3.9.1"
  }
 },
 "nbformat": 4,
 "nbformat_minor": 5
}
